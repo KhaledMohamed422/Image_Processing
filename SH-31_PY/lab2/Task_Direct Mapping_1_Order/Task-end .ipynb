{
 "cells": [
  {
   "cell_type": "code",
   "execution_count": 1,
   "id": "1209c249",
   "metadata": {},
   "outputs": [],
   "source": [
    "import cv2 as cv\n",
    "import numpy as np"
   ]
  },
  {
   "cell_type": "code",
   "execution_count": 2,
   "id": "df853410",
   "metadata": {},
   "outputs": [],
   "source": [
    "def apply_DM_1(arr, Fact):\n",
    "    n = len(arr)\n",
    "    new_arr = np.zeros(n, dtype=np.uint8)\n",
    "    i = 0\n",
    "    while i < n:\n",
    "        # find the first zero value\n",
    "        if arr[i] != 0:\n",
    "            new_arr[i] = arr[i]\n",
    "            i += 1\n",
    "        else:\n",
    "            # find the next non-zero value\n",
    "            j = i+1\n",
    "            while j < n and arr[j] == 0:\n",
    "                j += 1\n",
    "            if j == n:\n",
    "                # if there are no non-zero values after the current zero,\n",
    "                # use the previous non-zero value\n",
    "                new_arr[i:] = new_arr[i-1]\n",
    "            else:\n",
    "                # interpolate between the previous non-zero value and the next non-zero value\n",
    "                Max = max(arr[i-1], arr[j])\n",
    "                Min = min(arr[i-1], arr[j])\n",
    "                diff = j - i\n",
    "                for k in range(i, j):\n",
    "                    new_arr[k] = round(((Max - Min) / Fact) * ((k-i) ) + Min)\n",
    "            i = j\n",
    "    return new_arr\n"
   ]
  },
  {
   "cell_type": "code",
   "execution_count": 3,
   "id": "b1f6b529",
   "metadata": {},
   "outputs": [],
   "source": [
    "def apply_DM_1(arr, Fact):\n",
    "    n = len(arr)\n",
    "    new_arr = np.zeros(n, dtype=np.int16)\n",
    "    i = 0\n",
    "    li = []\n",
    "    for i in range(len(arr)):\n",
    "        if i*Fact < len(arr):\n",
    "            li.append(i*Fact)\n",
    "        else:\n",
    "            break\n",
    "\n",
    "    # Apply DM_1 to each pair of adjacent indices in the li list\n",
    "    for i in range(len(li)-1):\n",
    "        start = li[i]\n",
    "        if len(li) == i+1:\n",
    "            end = 0\n",
    "            slope = (arr[start] // 2) \n",
    "        else :    \n",
    "            end = li[i+1]\n",
    "            slope = ((arr[end] // 2) - (arr[start] // 2))\n",
    "\n",
    "        new_arr[start] = arr[start]\n",
    "        new_arr[end] = arr[end]\n",
    "        for j in range(start, end):\n",
    "            new_arr[j] = abs(round((arr[start] // 2) + slope * (j - start)) * 2)\n",
    "\n",
    "    return new_arr\n"
   ]
  },
  {
   "cell_type": "code",
   "execution_count": 4,
   "id": "1c09c79a",
   "metadata": {},
   "outputs": [],
   "source": [
    "def apply_DM_1(arr, Fact):\n",
    "    li = np.arange(0,len(arr),Fact)\n",
    "\n",
    "    for i in range(1,len(li)):\n",
    "        start = li[i-1]\n",
    "        end = li[i]\n",
    "        slope = (arr[end] - arr[start])\n",
    "        for i in range(start+1, end):\n",
    "            arr[i] = round( (slope/Fact) * ( i - start ) )+ arr[start]\n",
    "            \n",
    "    if int(len(li)) % 2 == 1:\n",
    "        last_pixel = li[-1]\n",
    "        arr[last_pixel:] = [arr[last_pixel]]*len(arr[last_pixel:])\n",
    "    return arr\n"
   ]
  },
  {
   "cell_type": "code",
   "execution_count": 5,
   "id": "e35fdccd",
   "metadata": {},
   "outputs": [
    {
     "name": "stdout",
     "output_type": "stream",
     "text": [
      "[10, 7, 3, 0, 10, 20, 30]\n"
     ]
    }
   ],
   "source": []
  },
  {
   "cell_type": "code",
   "execution_count": 6,
   "id": "b1eb7431",
   "metadata": {},
   "outputs": [],
   "source": [
    "def direct_1_order_gray(img, factor):\n",
    "    # Get the dimensions of the input image\n",
    "    height, width = img.shape\n",
    "\n",
    "    # Compute the new dimensions of the resized image\n",
    "    new_height, new_width = height * factor, width * factor\n",
    "\n",
    "    # Create a new image of zeros with the new dimensions\n",
    "    new_img = np.zeros((new_height, new_width))\n",
    "\n",
    "    # Move the pixels from the old image to the new image\n",
    "    for i in range(height):\n",
    "        for j in range(width):\n",
    "            new_img[i * factor, j * factor] = img[i, j]\n",
    "\n",
    "    # Iterate over each row in the new image and interpolate the values between consecutive zeros\n",
    "    for i in range(new_height):\n",
    "        new_img[i] = apply_DM_1(new_img[i], factor)\n",
    "\n",
    "    # Transpose the new image to iterate over the columns\n",
    "    new_img_T = new_img.T\n",
    "\n",
    "    # Iterate over each column in the new image and interpolate the values between consecutive zeros\n",
    "    for i in range(new_width):\n",
    "        new_img_T[i] = apply_DM_1(new_img_T[i], factor)\n",
    "\n",
    "    # Transpose the new image back to its original orientation\n",
    "    new_img = new_img_T.T\n",
    "\n",
    "    return new_img.astype('uint8') \n"
   ]
  },
  {
   "cell_type": "code",
   "execution_count": 7,
   "id": "e2754600",
   "metadata": {},
   "outputs": [],
   "source": [
    "def direct_1_order_rgb(img, factor):\n",
    "    # Get the dimensions of the input image\n",
    "    height, width, channels = img.shape\n",
    "\n",
    "    # Compute the new dimensions of the resized image\n",
    "    new_height, new_width = height * factor, width * factor\n",
    "\n",
    "    # Create a new image of zeros with the new dimensions\n",
    "    new_img = np.zeros((new_height, new_width, channels))\n",
    "\n",
    "    # Move the pixels from the old image to the new image\n",
    "    for i in range(height):\n",
    "        for j in range(width):\n",
    "            new_img[i * factor, j * factor, :] = img[i, j, :]\n",
    "\n",
    "    # Iterate over each channel in the new image\n",
    "    for channel in range(channels):\n",
    "        # Iterate over each row in the new image\n",
    "        for i in range(new_height):\n",
    "            new_img[i, :, channel] = apply_DM_1(new_img[i, :, channel], factor)\n",
    "\n",
    "        # Iterate over each column in the new image\n",
    "        for j in range(new_width):\n",
    "            new_img[:, j, channel] = apply_DM_1(new_img[:, j, channel], factor)\n",
    "\n",
    "    return new_img.astype('uint8') \n"
   ]
  },
  {
   "cell_type": "code",
   "execution_count": 10,
   "id": "e6d5ffc7",
   "metadata": {},
   "outputs": [
    {
     "name": "stdout",
     "output_type": "stream",
     "text": [
      "[[[255 255 255]\n",
      "  [255 255 255]\n",
      "  [255 255 255]\n",
      "  ...\n",
      "  [255 255 255]\n",
      "  [255 255 255]\n",
      "  [255 255 255]]\n",
      "\n",
      " [[255 255 255]\n",
      "  [255 255 255]\n",
      "  [255 255 255]\n",
      "  ...\n",
      "  [255 255 255]\n",
      "  [255 255 255]\n",
      "  [255 255 255]]\n",
      "\n",
      " [[255 255 255]\n",
      "  [255 255 255]\n",
      "  [255 255 255]\n",
      "  ...\n",
      "  [255 255 255]\n",
      "  [255 255 255]\n",
      "  [255 255 255]]\n",
      "\n",
      " ...\n",
      "\n",
      " [[255 255 255]\n",
      "  [255 255 255]\n",
      "  [255 255 255]\n",
      "  ...\n",
      "  [255 255 255]\n",
      "  [255 255 255]\n",
      "  [255 255 255]]\n",
      "\n",
      " [[255 255 255]\n",
      "  [255 255 255]\n",
      "  [255 255 255]\n",
      "  ...\n",
      "  [255 255 255]\n",
      "  [255 255 255]\n",
      "  [255 255 255]]\n",
      "\n",
      " [[  0   0   0]\n",
      "  [  0   0   0]\n",
      "  [  0   0   0]\n",
      "  ...\n",
      "  [  0   0   0]\n",
      "  [  0   0   0]\n",
      "  [  0   0   0]]]\n"
     ]
    },
    {
     "data": {
      "text/plain": [
       "-1"
      ]
     },
     "execution_count": 10,
     "metadata": {},
     "output_type": "execute_result"
    }
   ],
   "source": [
    "img=cv.imread('image/1.jpeg')\n",
    "factor = 2\n",
    "new_img = direct_1_order_rgb(img, factor)\n",
    "print(new_img)\n",
    "cv.imshow('Orginal image',img)\n",
    "cv.imshow(f'Resize image X{factor}',new_img)\n",
    "cv.waitKey(0)\n"
   ]
  },
  {
   "cell_type": "code",
   "execution_count": null,
   "id": "3fdf1213",
   "metadata": {},
   "outputs": [],
   "source": []
  },
  {
   "cell_type": "code",
   "execution_count": null,
   "id": "cbda958f",
   "metadata": {},
   "outputs": [],
   "source": []
  }
 ],
 "metadata": {
  "kernelspec": {
   "display_name": "Python 3 (ipykernel)",
   "language": "python",
   "name": "python3"
  },
  "language_info": {
   "codemirror_mode": {
    "name": "ipython",
    "version": 3
   },
   "file_extension": ".py",
   "mimetype": "text/x-python",
   "name": "python",
   "nbconvert_exporter": "python",
   "pygments_lexer": "ipython3",
   "version": "3.9.13"
  }
 },
 "nbformat": 4,
 "nbformat_minor": 5
}
