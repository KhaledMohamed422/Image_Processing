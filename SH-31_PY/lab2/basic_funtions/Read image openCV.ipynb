{
 "cells": [
  {
   "cell_type": "markdown",
   "id": "49cd8801",
   "metadata": {},
   "source": [
    "## How to import OpenCv module"
   ]
  },
  {
   "cell_type": "code",
   "execution_count": 40,
   "id": "93e76f31",
   "metadata": {},
   "outputs": [],
   "source": [
    "import cv2 as cv"
   ]
  },
  {
   "cell_type": "markdown",
   "id": "034bf99a",
   "metadata": {},
   "source": [
    "## How to read image and display it by OpenCv"
   ]
  },
  {
   "cell_type": "code",
   "execution_count": null,
   "id": "506af564",
   "metadata": {},
   "outputs": [],
   "source": [
    "import cv2 \n",
    "import numpy as np\n",
    "\n",
    "# Create a black image\n",
    "img = np.zeros((512, 512, 3), np.uint8)\n",
    "\n",
    "# Draw a line on the image\n",
    "# \n",
    "cv2.line(img, (0, 0), (511, 511), (255, 0, 0), 5)\n",
    "\n",
    "# Draw a rectangle on the image\n",
    "cv2.rectangle(img, (384, 0), (510, 128), (0, 255, 0), 3)\n",
    "\n",
    "# Draw a circle on the image\n",
    "cv2.circle(img, (447, 63), 63, (0, 0, 255), -1)\n",
    "\n",
    "# Draw an ellipse on the image\n",
    "cv2.ellipse(img, (256, 256), (100, 50), 0, 0, 180, 255, -1)\n",
    "\n",
    "# Draw text on the image\n",
    "cv2.putText(img, 'OpenCV', (10, 500), cv2.FONT_HERSHEY_SIMPLEX, 4, (255, 255, 255), 2, cv2.LINE_AA)\n",
    "\n",
    "# Display the image\n",
    "cv2.imshow('Drawing', img)\n",
    "\n",
    "# Wait for a key press and then close the window\n",
    "cv2.waitKey(0)\n",
    "cv2.destroyAllWindows()"
   ]
  },
  {
   "cell_type": "markdown",
   "id": "1cca2e5f",
   "metadata": {},
   "source": [
    "## How to read video and display it by OpenCv"
   ]
  },
  {
   "cell_type": "code",
   "execution_count": 7,
   "id": "593f1338",
   "metadata": {},
   "outputs": [],
   "source": [
    "ved_capture = cv.VideoCapture('ved/1.mp4') # to Capture vedeo use VideoCapture Parameters the abuolate path or ralteve pass of vedeo or int referance the camra of the pc\n",
    "# vedeo is frame of image to display vedio you must loop it frame by frame\n",
    "\n",
    "while True:\n",
    "    is_ture , frame = ved_capture.read()\n",
    "            \n",
    "    if is_ture == True:\n",
    "     cv.imshow('vedio',frame)    \n",
    "    \n",
    "    if cv.waitKey(20) & 0xff == ord('0'):\n",
    "        break\n",
    "           \n",
    "ved_capture.release()\n",
    "cv.destroyAllWindows()\n",
    "\n"
   ]
  },
  {
   "cell_type": "code",
   "execution_count": null,
   "id": "f44d1567",
   "metadata": {},
   "outputs": [],
   "source": [
    "## more info\n",
    "ved_capture2 = cv.VideoCapture('ved/1.mp4')\n",
    "ved_capture2.set(cv.CAP_PROP_POS_FRAMES, 5)# To start capturing video from frame 5, you can use the set()\n",
    "ved_capture2.get(7)# to get number of frames\n"
   ]
  },
  {
   "cell_type": "code",
   "execution_count": 27,
   "id": "0c19e28b",
   "metadata": {},
   "outputs": [],
   "source": [
    "img = cv.imread('image/1.jpeg',0)\n",
    "\n",
    "\n",
    "# convert the image to RGB color space\n",
    "img_rgb = cv.cvtColor(img, cv.COLOR_GRAY2RGB)\n",
    "\n",
    "# Convert the image from BGR to Grayscale \n",
    "gray = cv.cvtColor(img_rgb, cv.COLOR_BGR2GRAY)\n",
    "\n",
    "# apply histogram equalization to the image\n",
    "img_equalized = cv.equalizeHist(img)\n",
    "\n",
    "# display the images\n",
    "cv.imshow('original', img_rgb)\n",
    "cv.imshow('Grayscale', gray)\n",
    "cv.imshow('Histogram equalization', img_equalized)\n",
    "cv.waitKey(0)\n",
    "cv.destroyAllWindows()"
   ]
  },
  {
   "cell_type": "code",
   "execution_count": null,
   "id": "758c23f6",
   "metadata": {},
   "outputs": [],
   "source": []
  },
  {
   "cell_type": "code",
   "execution_count": null,
   "id": "6ac2f94e",
   "metadata": {},
   "outputs": [],
   "source": []
  }
 ],
 "metadata": {
  "kernelspec": {
   "display_name": "Python 3 (ipykernel)",
   "language": "python",
   "name": "python3"
  },
  "language_info": {
   "codemirror_mode": {
    "name": "ipython",
    "version": 3
   },
   "file_extension": ".py",
   "mimetype": "text/x-python",
   "name": "python",
   "nbconvert_exporter": "python",
   "pygments_lexer": "ipython3",
   "version": "3.9.13"
  }
 },
 "nbformat": 4,
 "nbformat_minor": 5
}
